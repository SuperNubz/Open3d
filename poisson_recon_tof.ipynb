{
 "cells": [
  {
   "cell_type": "code",
   "execution_count": 83,
   "metadata": {},
   "outputs": [],
   "source": [
    "import numpy as np\n",
    "import open3d as o3d"
   ]
  },
  {
   "cell_type": "code",
   "execution_count": 84,
   "metadata": {},
   "outputs": [],
   "source": [
    "input_path=\"Point_Cloud_Sample/\"\n",
    "output_path=\"Point_Cloud_Sample/Results/\"\n",
    "dataname=\"my_pts.ply\"\n",
    "point_cloud= np.loadtxt(input_path+dataname, skiprows=11)\n"
   ]
  },
  {
   "cell_type": "code",
   "execution_count": 85,
   "metadata": {},
   "outputs": [],
   "source": [
    "pcd = o3d.geometry.PointCloud()\n",
    "pcd.normals = o3d.utility.Vector3dVector(point_cloud[:,3:6])\n",
    "pcd.points = o3d.utility.Vector3dVector(point_cloud[:,:3])\n",
    "#pcd.colors = o3d.utility.Vector3dVector(point_cloud[:,3:6]/255)"
   ]
  },
  {
   "cell_type": "code",
   "execution_count": 86,
   "metadata": {},
   "outputs": [
    {
     "data": {
      "text/plain": [
       "'pcd.estimate_normals(\\n    search_param = o3d.geometry.KDTreeSearchParamHybrid(radius = 0.1, max_nn = 30)\\n)'"
      ]
     },
     "execution_count": 86,
     "metadata": {},
     "output_type": "execute_result"
    }
   ],
   "source": [
    "\"\"\"pcd.estimate_normals(\n",
    "    search_param = o3d.geometry.KDTreeSearchParamHybrid(radius = 0.01, max_nn = 1000)\n",
    ")\"\"\"\n",
    "\n",
    "#If radius == 0.1, covers too less, thus, resulting in abnormal model\n",
    "\"\"\"pcd.estimate_normals(\n",
    "    search_param = o3d.geometry.KDTreeSearchParamHybrid(radius = 0.1, max_nn = 30)\n",
    ")\"\"\"\n"
   ]
  },
  {
   "cell_type": "code",
   "execution_count": 87,
   "metadata": {},
   "outputs": [],
   "source": [
    "#o3d.visualization.draw_geometries([pcd], point_show_normal = True)"
   ]
  },
  {
   "cell_type": "code",
   "execution_count": 88,
   "metadata": {},
   "outputs": [],
   "source": [
    "# Orients the normal vector\n",
    "pcd.orient_normals_consistent_tangent_plane(100)"
   ]
  },
  {
   "cell_type": "code",
   "execution_count": 89,
   "metadata": {},
   "outputs": [],
   "source": [
    "#o3d.visualization.draw_geometries([pcd], point_show_normal = True)"
   ]
  },
  {
   "cell_type": "code",
   "execution_count": 90,
   "metadata": {},
   "outputs": [
    {
     "data": {
      "text/plain": [
       "'o3d.visualization.draw_geometries([mesh],\\n                                  zoom=0.664,\\n                                  front=[-0.4761, -0.4698, -0.7434],\\n                                  lookat=[1.8900, 3.2596, 0.9284],\\n                                  up=[0.2304, -0.8825, 0.4101])'"
      ]
     },
     "execution_count": 90,
     "metadata": {},
     "output_type": "execute_result"
    }
   ],
   "source": [
    "\n",
    "poisson_mesh = o3d.geometry.TriangleMesh.create_from_point_cloud_poisson(pcd, depth=10, width=0, scale=1.1, linear_fit=False)[0]\n",
    "poisson_mesh = o3d.geometry.TriangleMesh.compute_triangle_normals(poisson_mesh)\n",
    "\n",
    "\"\"\"with o3d.utility.VerbosityContextManager(\n",
    "    o3d.utility.VerbosityLevel.Debug) as cm:\n",
    "    mesh, densities = o3d.geometry.TriangleMesh.create_from_point_cloud_poisson(pcd, depth = 9)\"\"\"\n",
    "\n",
    "# print(mesh)\n",
    "\"\"\"o3d.visualization.draw_geometries([mesh],\n",
    "                                  zoom=0.664,\n",
    "                                  front=[-0.4761, -0.4698, -0.7434],\n",
    "                                  lookat=[1.8900, 3.2596, 0.9284],\n",
    "                                  up=[0.2304, -0.8825, 0.4101])\"\"\""
   ]
  },
  {
   "cell_type": "code",
   "execution_count": 91,
   "metadata": {},
   "outputs": [
    {
     "data": {
      "text/plain": [
       "'vertices_to_remove = densities < np.quantile(densities, 0.01)\\nmesh.remove_vertices_by_mask(vertices_to_remove)\\nprint(mesh)\\no3d.visualization.draw_geometries([mesh],\\n                                  zoom=0.664,\\n                                  front=[-0.4761, -0.4698, -0.7434],\\n                                  lookat=[1.8900, 3.2596, 0.9284],\\n                                  up=[0.2304, -0.8825, 0.4101])'"
      ]
     },
     "execution_count": 91,
     "metadata": {},
     "output_type": "execute_result"
    }
   ],
   "source": [
    "\"\"\"vertices_to_remove = densities < np.quantile(densities, 0.01)\n",
    "mesh.remove_vertices_by_mask(vertices_to_remove)\n",
    "print(mesh)\n",
    "o3d.visualization.draw_geometries([mesh],\n",
    "                                  zoom=0.664,\n",
    "                                  front=[-0.4761, -0.4698, -0.7434],\n",
    "                                  lookat=[1.8900, 3.2596, 0.9284],\n",
    "                                  up=[0.2304, -0.8825, 0.4101])\"\"\""
   ]
  },
  {
   "cell_type": "code",
   "execution_count": 92,
   "metadata": {},
   "outputs": [],
   "source": [
    "bbox = pcd.get_axis_aligned_bounding_box()\n",
    "p_mesh_crop = poisson_mesh.crop(bbox)"
   ]
  },
  {
   "cell_type": "code",
   "execution_count": 93,
   "metadata": {},
   "outputs": [
    {
     "data": {
      "text/plain": [
       "True"
      ]
     },
     "execution_count": 93,
     "metadata": {},
     "output_type": "execute_result"
    }
   ],
   "source": [
    "o3d.io.write_triangle_mesh(output_path + 'kf_output.stl', p_mesh_crop)"
   ]
  },
  {
   "cell_type": "code",
   "execution_count": null,
   "metadata": {},
   "outputs": [],
   "source": []
  }
 ],
 "metadata": {
  "kernelspec": {
   "display_name": "Python 3.8.10 ('tutorial_env': venv)",
   "language": "python",
   "name": "python3"
  },
  "language_info": {
   "codemirror_mode": {
    "name": "ipython",
    "version": 3
   },
   "file_extension": ".py",
   "mimetype": "text/x-python",
   "name": "python",
   "nbconvert_exporter": "python",
   "pygments_lexer": "ipython3",
   "version": "3.8.10"
  },
  "orig_nbformat": 4,
  "vscode": {
   "interpreter": {
    "hash": "568b5179a89bcc87570849c363e9462e9808a75b98567aca9deee59404c1aa6c"
   }
  }
 },
 "nbformat": 4,
 "nbformat_minor": 2
}
